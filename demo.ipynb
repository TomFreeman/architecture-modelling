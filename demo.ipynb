{
 "cells": [
  {
   "cell_type": "code",
   "execution_count": null,
   "metadata": {
    "dotnet_interactive": {
     "language": "fsharp"
    },
    "vscode": {
     "languageId": "dotnet-interactive.fsharp"
    }
   },
   "outputs": [],
   "source": [
    "#r \"./src/Model/bin/Debug/net6.0/Model.dll\"\n",
    "\n",
    "open Model"
   ]
  },
  {
   "cell_type": "markdown",
   "metadata": {
    "dotnet_interactive": {
     "language": "fsharp"
    }
   },
   "source": [
    "# What is this?\n",
    "\n",
    "* Have you ever felt the problem with architectural diagrams is they are _too visual_?\n",
    "* Have you ever thought, \"this diagram is great in theory, but what if I could validate it somehow?\"\n",
    "* Have you thought that your diagrams do too little, and by focussing on one aspect of your architecture they are too clear?\n",
    "\n",
    "## Well, this is the solution\n",
    "\n",
    "I was looking for a way to visualise a complex architecture, that allowed me to include some often-overlooked concepts as _reliability_ and _ownership_. Not finding a modelling tool that would fit my needs, I turned to what I always turned to - I wrote some code.\n",
    "\n",
    "This is the result, a simple DSL for describing architectures that can then be used to generate diagrams of a variety of flavours, from a single source of truth.\n",
    "\n",
    "### No, really, Why?\n",
    "\n",
    "By creating a DSL in code, we gain two things.\n",
    "\n",
    "1. We can create complex hierarchies that are difficult to visualise (but still reflective of the truth of the system), and then create simplified visualisations without losing fidelity.\n",
    "1. We can test our architecture, validate best practices and search for pain points directly from the architecure model.\n",
    "\n",
    "By modelling the architecture, and not simply diagramming it, we can test our assumptions, validate our behaviours and estimate the reliability and performance of your architecture before you've written a single line of code. (Except for these ones.)\n",
    "\n",
    "## Enough waffle\n",
    "\n",
    "You're right, let's do a demonstration.\n",
    "\n",
    "Imagine you have an architecture, consisting of a single application with no dependencies, that was written by a mythical perfect engineer, and has no bugs. You might model that like so:"
   ]
  },
  {
   "cell_type": "code",
   "execution_count": null,
   "metadata": {
    "dotnet_interactive": {
     "language": "fsharp"
    },
    "vscode": {
     "languageId": "dotnet-interactive.fsharp"
    }
   },
   "outputs": [],
   "source": [
    "let ``my perfect application`` = {\n",
    "        name = \"a totally reliable service\"\n",
    "        links = [||]\n",
    "        serviceType = Internal\n",
    "        reliabilityProfile = randomUptimeProfile 1.0\n",
    "    }"
   ]
  },
  {
   "cell_type": "markdown",
   "metadata": {},
   "source": [
    "You can now validate that your perfect application is actually perfect. Using the method `walkService` which runs a test operation against the application."
   ]
  },
  {
   "cell_type": "code",
   "execution_count": null,
   "metadata": {
    "dotnet_interactive": {
     "language": "fsharp"
    },
    "vscode": {
     "languageId": "dotnet-interactive.fsharp"
    }
   },
   "outputs": [
    {
     "data": {
      "text/html": [
       "<div><div></div><div></div><div><strong>Installed Packages</strong><ul><li><span>Xunit, 2.4.2</span></li></ul></div></div>"
      ]
     },
     "metadata": {},
     "output_type": "display_data"
    },
    {
     "ename": "Error",
     "evalue": "Xunit.Sdk.EqualException: Assert.Equal() Failure\nExpected: Unavailable\nActual:   Working\n   at Xunit.Assert.Equal[T](T expected, T actual, IEqualityComparer`1 comparer) in /_/src/xunit.assert/Asserts/EqualityAsserts.cs:line 100\n   at Xunit.Assert.StrictEqual[T](T expected, T actual) in /_/src/xunit.assert/Asserts/EqualityAsserts.cs:line 238\n   at <StartupCode$FSI_0015>.$FSI_0015.main@()",
     "output_type": "error",
     "traceback": [
      "Xunit.Sdk.EqualException: Assert.Equal() Failure\n",
      "Expected: Unavailable\n",
      "Actual:   Working\n",
      "   at Xunit.Assert.Equal[T](T expected, T actual, IEqualityComparer`1 comparer) in /_/src/xunit.assert/Asserts/EqualityAsserts.cs:line 100\n",
      "   at Xunit.Assert.StrictEqual[T](T expected, T actual) in /_/src/xunit.assert/Asserts/EqualityAsserts.cs:line 238\n",
      "   at <StartupCode$FSI_0015>.$FSI_0015.main@()"
     ]
    }
   ],
   "source": [
    "#r \"nuget: Xunit, *-*\"\n",
    "\n",
    "open Xunit\n",
    "\n",
    "[<Fact>]\n",
    "let ``Reliable services are always reliable`` () =\n",
    "    let result = walkService ``my perfect application`` \n",
    "\n",
    "    Assert.StrictEqual(ServiceLevel.Unavailable, result)\n",
    "\n",
    "// Run the test, we're in a notebook, not a test runner\n",
    "\n",
    "``Reliable services are always reliable``()"
   ]
  },
  {
   "cell_type": "markdown",
   "metadata": {},
   "source": [
    "Oh wait, our test was wrong. Perfect services are always working, not unavailable.\n",
    "\n",
    "But, you get the picture.\n",
    "\n",
    "What if our perfect service depends on another service? \n",
    "\n",
    "Here we're using the `randomUptimeProfile` function that models a service with a given chance of success."
   ]
  },
  {
   "cell_type": "code",
   "execution_count": null,
   "metadata": {
    "dotnet_interactive": {
     "language": "fsharp"
    },
    "vscode": {
     "languageId": "dotnet-interactive.fsharp"
    }
   },
   "outputs": [
    {
     "data": {
      "text/html": [
       "<div class=\"dni-plaintext\">Unavailable</div>"
      ]
     },
     "metadata": {},
     "output_type": "display_data"
    },
    {
     "data": {
      "text/html": [
       "<div class=\"dni-plaintext\">Unavailable</div>"
      ]
     },
     "metadata": {},
     "output_type": "display_data"
    },
    {
     "data": {
      "text/html": [
       "<div class=\"dni-plaintext\">Working</div>"
      ]
     },
     "metadata": {},
     "output_type": "display_data"
    }
   ],
   "source": [
    "let ``Our unreliable dependency`` = {\n",
    "    name = \"a totally unreliable service\"\n",
    "    links = [||]\n",
    "    serviceType = Internal\n",
    "    reliabilityProfile = randomUptimeProfile 0.5\n",
    "}\n",
    "\n",
    "let ``my perfect application`` = {\n",
    "        name = \"a totally reliable service\"\n",
    "        links = [|Requires(``Our unreliable dependency``)|]\n",
    "        serviceType = Internal\n",
    "        reliabilityProfile = randomUptimeProfile 1.0\n",
    "    }\n",
    "\n",
    "// This should work fine, right?\n",
    "display(walkService ``my perfect application``)\n",
    "display(walkService ``my perfect application``)\n",
    "display(walkService ``my perfect application``)"
   ]
  },
  {
   "cell_type": "markdown",
   "metadata": {
    "dotnet_interactive": {
     "language": "fsharp"
    }
   },
   "source": [
    "Oh yes, it's not quite so reliable anymore. But, we don't just need to run `walkService` a bunch of times. We can get the testing framework to do that for us. The `determineServiceUptime` runs `walkService` a bunch of times and aggregates the success, failures, and degradations (we'll get to that later)."
   ]
  },
  {
   "cell_type": "code",
   "execution_count": null,
   "metadata": {
    "dotnet_interactive": {
     "language": "fsharp"
    },
    "vscode": {
     "languageId": "dotnet-interactive.fsharp"
    }
   },
   "outputs": [
    {
     "data": {
      "text/plain": [
       "successes: 501, failures: 499\n"
      ]
     },
     "metadata": {},
     "output_type": "display_data"
    }
   ],
   "source": [
    "let success, failures, _ = determineServiceUptime 1000 ``my perfect application`` \n",
    "\n",
    "sprintf \"successes: %d, failures: %d\\n\" success failures"
   ]
  },
  {
   "cell_type": "markdown",
   "metadata": {},
   "source": [
    "Oh yes, that makes sense. What would we do in our architecture to improve the reliability? Implement retries with exponential backoff! \n",
    "\n",
    "By feeding the `randomUptimeProfile` through the `retrying` strategy we can model a system with retries."
   ]
  },
  {
   "cell_type": "code",
   "execution_count": null,
   "metadata": {
    "dotnet_interactive": {
     "language": "fsharp"
    },
    "vscode": {
     "languageId": "dotnet-interactive.fsharp"
    }
   },
   "outputs": [
    {
     "data": {
      "text/plain": [
       "successes: 1000, failures: 0\n"
      ]
     },
     "metadata": {},
     "output_type": "display_data"
    }
   ],
   "source": [
    "open Reliability.Patterns\n",
    "\n",
    "let ``Our unreliable dependency`` = {\n",
    "    name = \"a totally unreliable service\"\n",
    "    links = [||]\n",
    "    serviceType = Internal\n",
    "    reliabilityProfile = randomUptimeProfile 0.5\n",
    "}\n",
    "\n",
    "let ``my nearly perfect application`` = {\n",
    "        name = \"a totally reliable service\"\n",
    "        links = [|Requires(``Our unreliable dependency`` |> mitigatedBy (retrying 3))|]\n",
    "        serviceType = Internal\n",
    "        reliabilityProfile = randomUptimeProfile 1.0\n",
    "    }\n",
    "\n",
    "let success, failures, _ = determineServiceUptime 1000 ``my nearly perfect application`` \n",
    "\n",
    "sprintf \"successes: %d, failures: %d\\n\" success failures"
   ]
  },
  {
   "cell_type": "markdown",
   "metadata": {},
   "source": [
    "Oh yes, that's much better."
   ]
  }
 ],
 "metadata": {
  "kernelspec": {
   "display_name": ".NET (F#)",
   "language": "F#",
   "name": ".net-fsharp"
  },
  "language_info": {
   "name": "F#"
  }
 },
 "nbformat": 4,
 "nbformat_minor": 2
}
