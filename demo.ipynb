{
 "cells": [
  {
   "cell_type": "code",
   "execution_count": 2,
   "metadata": {
    "dotnet_interactive": {
     "language": "fsharp"
    }
   },
   "outputs": [],
   "source": [
    "#r \"./src/Model/bin/Debug/net6.0/Model.dll\"\n",
    "\n",
    "open Model\n"
   ]
  },
  {
   "cell_type": "markdown",
   "metadata": {},
   "source": [
    "# What is this?\n",
    "\n",
    "* Have you ever felt the problem with architectural diagrams is they are _too visual_?\n",
    "* Have you ever thought, \"this diagram is great in theory, but what if I could validate it somehow?\"\n",
    "* Have you thought that your diagrams do too little, and by focussing on one aspect of your architecture they are too clear?\n",
    "\n",
    "## Well, this is the solution\n",
    "\n",
    "I was looking for a way to visualise a complex architecture, that allowed me to include some often-overlooked concepts as _reliability_ and _ownership_. Not finding a modelling tool that would fit my needs, I turned to what I always turned to - I wrote some code.\n",
    "\n",
    "This is the result, a simple DSL for describing architectures that can then be used to generate diagrams of a variety of flavours, from a single source of truth.\n",
    "\n",
    "### No, really, Why?\n",
    "\n",
    "By creating a DSL in code, we gain two things.\n",
    "\n",
    "1. We can create complex hierarchies that are difficult to visualise (but still reflective of the truth of the system), and then create simplified visualisations without losing fidelity.\n",
    "1. We can test our architecture, validate best practices and search for pain points directly from the architecure model.\n",
    "\n",
    "By modelling the architecture, and not simply diagramming it, we can test our assumptions, validate our behaviours and estimate the reliability and performance of your architecture before you've written a single line of code. (Except for these ones.)\n",
    "\n",
    "## Enough waffle\n",
    "\n",
    "You're right, let's do a demonstration.\n",
    "\n",
    "Imagine you have an architecture, consisting of a single application with no dependencies, that was written by a mythical perfect engineer, and has no bugs. You might model that like so:"
   ]
  },
  {
   "cell_type": "code",
   "execution_count": 3,
   "metadata": {
    "dotnet_interactive": {
     "language": "fsharp"
    }
   },
   "outputs": [],
   "source": [
    "let ``my perfect application`` = {\n",
    "        name = \"a totally reliable service\"\n",
    "        serviceType = InternalService\n",
    "        reliabilityProfile = randomUptimeProfile 1.0\n",
    "        metadata = None\n",
    "    }\n"
   ]
  },
  {
   "cell_type": "markdown",
   "metadata": {},
   "source": [
    "You can now validate that your perfect application is actually perfect. Using the method `walkService` which runs a test operation against the application."
   ]
  },
  {
   "cell_type": "code",
   "execution_count": 4,
   "metadata": {
    "dotnet_interactive": {
     "language": "fsharp"
    }
   },
   "outputs": [
    {
     "data": {
      "text/html": [
       "<div><div></div><div></div><div><strong>Installed Packages</strong><ul><li><span>Xunit, 2.7.0</span></li></ul></div></div>"
      ]
     },
     "metadata": {},
     "output_type": "display_data"
    },
    {
     "ename": "Error",
     "evalue": "Xunit.Sdk.StrictEqualException: Assert.StrictEqual() Failure: Values differ\nExpected: 0\nActual:   1\n   at Xunit.Assert.StrictEqual[T](T expected, T actual) in /_/src/xunit.assert/Asserts/EqualityAsserts.cs:line 971\n   at <StartupCode$FSI_0009>.$FSI_0009.main@()\n   at System.RuntimeMethodHandle.InvokeMethod(Object target, Void** arguments, Signature sig, Boolean isConstructor)\n   at System.Reflection.MethodBaseInvoker.InvokeWithNoArgs(Object obj, BindingFlags invokeAttr)",
     "output_type": "error",
     "traceback": [
      "Xunit.Sdk.StrictEqualException: Assert.StrictEqual() Failure: Values differ\n",
      "Expected: 0\n",
      "Actual:   1\n",
      "   at Xunit.Assert.StrictEqual[T](T expected, T actual) in /_/src/xunit.assert/Asserts/EqualityAsserts.cs:line 971\n",
      "   at <StartupCode$FSI_0009>.$FSI_0009.main@()\n",
      "   at System.RuntimeMethodHandle.InvokeMethod(Object target, Void** arguments, Signature sig, Boolean isConstructor)\n",
      "   at System.Reflection.MethodBaseInvoker.InvokeWithNoArgs(Object obj, BindingFlags invokeAttr)"
     ]
    }
   ],
   "source": [
    "#r \"nuget: Xunit, *-*\"\n",
    "\n",
    "open Xunit\n",
    "\n",
    "[<Fact>]\n",
    "let ``Reliable services are always reliable`` () =\n",
    "    let successes, failures, degradations = determineServiceUptime 1 ``my perfect application``\n",
    "\n",
    "    Assert.StrictEqual(degradations, 1)\n",
    "\n",
    "// Run the test, we're in a notebook, not a test runner\n",
    "\n",
    "``Reliable services are always reliable``()\n"
   ]
  },
  {
   "cell_type": "markdown",
   "metadata": {},
   "source": [
    "Oh wait, our test was wrong. Perfect services are always working, not unavailable.\n",
    "\n",
    "But, you get the picture.\n",
    "\n",
    "What if our perfect service depends on another service? \n",
    "\n",
    "Here we're using the `randomUptimeProfile` function that models a service with a given chance of success."
   ]
  },
  {
   "cell_type": "code",
   "execution_count": 5,
   "metadata": {
    "dotnet_interactive": {
     "language": "fsharp"
    }
   },
   "outputs": [
    {
     "name": "stdout",
     "output_type": "stream",
     "text": [
      "Successes: 2, Failures: 1, Degradations: 0\n"
     ]
    }
   ],
   "source": [
    "let ``Our unreliable dependency`` = {\n",
    "    name = \"a totally unreliable service\"\n",
    "    serviceType = InternalService\n",
    "    reliabilityProfile = randomUptimeProfile 0.5\n",
    "    metadata = None\n",
    "}\n",
    "\n",
    "let ``my perfect application`` = {\n",
    "        name = \"a totally reliable service\"\n",
    "        serviceType = InternalService\n",
    "        reliabilityProfile = randomUptimeProfile 1.0\n",
    "        metadata = None\n",
    "    }\n",
    "\n",
    "``my perfect application`` |> dependsOn ``Our unreliable dependency``\n",
    "\n",
    "// This should work fine, right?\n",
    "let successes, failures, degradations = determineServiceUptime 3 ``my perfect application``\n",
    "printfn \"Successes: %A, Failures: %A, Degradations: %A\" successes failures degradations\n"
   ]
  },
  {
   "cell_type": "markdown",
   "metadata": {},
   "source": [
    "Well, that's not looking so good, but let's run it a bunch of times to get more statistically significant data."
   ]
  },
  {
   "cell_type": "code",
   "execution_count": 6,
   "metadata": {
    "dotnet_interactive": {
     "language": "fsharp"
    }
   },
   "outputs": [
    {
     "data": {
      "text/plain": [
       "successes: 511, failures: 489\n"
      ]
     },
     "metadata": {},
     "output_type": "display_data"
    }
   ],
   "source": [
    "let success, failures, _ = determineServiceUptime 1000 ``my perfect application``\n",
    "\n",
    "sprintf \"successes: %d, failures: %d\\n\" success failures\n"
   ]
  },
  {
   "cell_type": "markdown",
   "metadata": {},
   "source": [
    "Oh yes, that makes sense. What would we do in our architecture to improve the reliability? Implement retries with exponential backoff! \n",
    "\n",
    "By feeding the `randomUptimeProfile` through the `retrying` strategy we can model a system with retries."
   ]
  },
  {
   "cell_type": "code",
   "execution_count": 7,
   "metadata": {
    "dotnet_interactive": {
     "language": "fsharp"
    }
   },
   "outputs": [
    {
     "data": {
      "text/plain": [
       "successes: 506, failures: 494\n"
      ]
     },
     "metadata": {},
     "output_type": "display_data"
    }
   ],
   "source": [
    "open Reliability.Patterns\n",
    "\n",
    "let ``Our unreliable dependency`` = {\n",
    "    name = \"a totally unreliable service\"\n",
    "    serviceType = InternalService\n",
    "    reliabilityProfile = randomUptimeProfile 0.5\n",
    "    metadata = None\n",
    "}\n",
    "\n",
    "let ``my nearly perfect application`` = {\n",
    "        name = \"a totally reliable service\"\n",
    "        serviceType = InternalService\n",
    "        reliabilityProfile = randomUptimeProfile 1.0\n",
    "        metadata = None\n",
    "    }\n",
    "\n",
    "``my nearly perfect application`` |> dependsOn (``Our unreliable dependency`` |> mitigatedBy (retrying 3))\n",
    "\n",
    "let success, failures, _ = determineServiceUptime 1000 ``my nearly perfect application``\n",
    "\n",
    "sprintf \"successes: %d, failures: %d\\n\" success failures\n"
   ]
  },
  {
   "cell_type": "markdown",
   "metadata": {},
   "source": [
    "Oh yes, that's much better."
   ]
  }
 ],
 "metadata": {
  "kernelspec": {
   "display_name": ".NET (C#)",
   "language": "C#",
   "name": ".net-csharp"
  },
  "language_info": {
   "file_extension": ".fs",
   "mimetype": "text/x-fsharp",
   "name": "polyglot-notebook",
   "pygments_lexer": "fsharp",
   "version": "6.0"
  },
  "polyglot_notebook": {
   "kernelInfo": {
    "defaultKernelName": "csharp",
    "items": [
     {
      "aliases": [],
      "name": "csharp"
     },
     {
      "aliases": [],
      "name": "fsharp"
     }
    ]
   }
  }
 },
 "nbformat": 4,
 "nbformat_minor": 2
}
