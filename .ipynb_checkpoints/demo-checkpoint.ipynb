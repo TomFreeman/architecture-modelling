{
 "cells": [
  {
   "cell_type": "code",
   "execution_count": 1,
   "metadata": {
    "dotnet_interactive": {
     "language": "fsharp"
    },
    "vscode": {
     "languageId": "dotnet-interactive.fsharp"
    }
   },
   "outputs": [
    {
     "data": {
      "text/html": [
       "\r\n",
       "<div>\r\n",
       "    <div id='dotnet-interactive-this-cell-15672.Microsoft.DotNet.Interactive.Http.HttpPort' style='display: none'>\r\n",
       "        The below script needs to be able to find the current output cell; this is an easy method to get it.\r\n",
       "    </div>\r\n",
       "    <script type='text/javascript'>\r\n",
       "async function probeAddresses(probingAddresses) {\r\n",
       "    function timeout(ms, promise) {\r\n",
       "        return new Promise(function (resolve, reject) {\r\n",
       "            setTimeout(function () {\r\n",
       "                reject(new Error('timeout'))\r\n",
       "            }, ms)\r\n",
       "            promise.then(resolve, reject)\r\n",
       "        })\r\n",
       "    }\r\n",
       "\r\n",
       "    if (Array.isArray(probingAddresses)) {\r\n",
       "        for (let i = 0; i < probingAddresses.length; i++) {\r\n",
       "\r\n",
       "            let rootUrl = probingAddresses[i];\r\n",
       "\r\n",
       "            if (!rootUrl.endsWith('/')) {\r\n",
       "                rootUrl = `${rootUrl}/`;\r\n",
       "            }\r\n",
       "\r\n",
       "            try {\r\n",
       "                let response = await timeout(1000, fetch(`${rootUrl}discovery`, {\r\n",
       "                    method: 'POST',\r\n",
       "                    cache: 'no-cache',\r\n",
       "                    mode: 'cors',\r\n",
       "                    timeout: 1000,\r\n",
       "                    headers: {\r\n",
       "                        'Content-Type': 'text/plain'\r\n",
       "                    },\r\n",
       "                    body: probingAddresses[i]\r\n",
       "                }));\r\n",
       "\r\n",
       "                if (response.status == 200) {\r\n",
       "                    return rootUrl;\r\n",
       "                }\r\n",
       "            }\r\n",
       "            catch (e) { }\r\n",
       "        }\r\n",
       "    }\r\n",
       "}\r\n",
       "\r\n",
       "function loadDotnetInteractiveApi() {\r\n",
       "    probeAddresses([\"http://192.168.50.108:1024/\", \"http://127.0.0.1:1024/\"])\r\n",
       "        .then((root) => {\r\n",
       "        // use probing to find host url and api resources\r\n",
       "        // load interactive helpers and language services\r\n",
       "        let dotnetInteractiveRequire = require.config({\r\n",
       "        context: '15672.Microsoft.DotNet.Interactive.Http.HttpPort',\r\n",
       "                paths:\r\n",
       "            {\r\n",
       "                'dotnet-interactive': `${root}resources`\r\n",
       "                }\r\n",
       "        }) || require;\r\n",
       "\r\n",
       "            window.dotnetInteractiveRequire = dotnetInteractiveRequire;\r\n",
       "\r\n",
       "            window.configureRequireFromExtension = function(extensionName, extensionCacheBuster) {\r\n",
       "                let paths = {};\r\n",
       "                paths[extensionName] = `${root}extensions/${extensionName}/resources/`;\r\n",
       "                \r\n",
       "                let internalRequire = require.config({\r\n",
       "                    context: extensionCacheBuster,\r\n",
       "                    paths: paths,\r\n",
       "                    urlArgs: `cacheBuster=${extensionCacheBuster}`\r\n",
       "                    }) || require;\r\n",
       "\r\n",
       "                return internalRequire\r\n",
       "            };\r\n",
       "        \r\n",
       "            dotnetInteractiveRequire([\r\n",
       "                    'dotnet-interactive/dotnet-interactive'\r\n",
       "                ],\r\n",
       "                function (dotnet) {\r\n",
       "                    dotnet.init(window);\r\n",
       "                },\r\n",
       "                function (error) {\r\n",
       "                    console.log(error);\r\n",
       "                }\r\n",
       "            );\r\n",
       "        })\r\n",
       "        .catch(error => {console.log(error);});\r\n",
       "    }\r\n",
       "\r\n",
       "// ensure `require` is available globally\r\n",
       "if ((typeof(require) !==  typeof(Function)) || (typeof(require.config) !== typeof(Function))) {\r\n",
       "    let require_script = document.createElement('script');\r\n",
       "    require_script.setAttribute('src', 'https://cdnjs.cloudflare.com/ajax/libs/require.js/2.3.6/require.min.js');\r\n",
       "    require_script.setAttribute('type', 'text/javascript');\r\n",
       "    \r\n",
       "    \r\n",
       "    require_script.onload = function() {\r\n",
       "        loadDotnetInteractiveApi();\r\n",
       "    };\r\n",
       "\r\n",
       "    document.getElementsByTagName('head')[0].appendChild(require_script);\r\n",
       "}\r\n",
       "else {\r\n",
       "    loadDotnetInteractiveApi();\r\n",
       "}\r\n",
       "\r\n",
       "    </script>\r\n",
       "</div>"
      ]
     },
     "metadata": {},
     "output_type": "display_data"
    }
   ],
   "source": [
    "#r \"./src/Model/bin/Debug/net6.0/Model.dll\"\n",
    "\n",
    "open Model"
   ]
  },
  {
   "cell_type": "markdown",
   "metadata": {
    "dotnet_interactive": {
     "language": "fsharp"
    }
   },
   "source": [
    "# What is this?\n",
    "\n",
    "* Have you ever felt the problem with architectural diagrams is they are _too visual_?\n",
    "* Have you ever thought, \"this diagram is great in theory, but what if I could validate it somehow?\"\n",
    "* Have you thought that your diagrams do too little, and by focussing on one aspect of your architecture they are too clear?\n",
    "\n",
    "## Well, this is the solution\n",
    "\n",
    "I was looking for a way to visualise a complex architecture, that allowed me to include some often-overlooked concepts as _reliability_ and _ownership_. Not finding a modelling tool that would fit my needs, I turned to what I always turned to - I wrote some code.\n",
    "\n",
    "This is the result, a simple DSL for describing architectures that can then be used to generate diagrams of a variety of flavours, from a single source of truth.\n",
    "\n",
    "### No, really, Why?\n",
    "\n",
    "By creating a DSL in code, we gain two things.\n",
    "\n",
    "1. We can create complex hierarchies that are difficult to visualise (but still reflective of the truth of the system), and then create simplified visualisations without losing fidelity.\n",
    "1. We can test our architecture, validate best practices and search for pain points directly from the architecure model.\n",
    "\n",
    "By modelling the architecture, and not simply diagramming it, we can test our assumptions, validate our behaviours and estimate the reliability and performance of your architecture before you've written a single line of code. (Except for these ones.)\n",
    "\n",
    "## Enough waffle\n",
    "\n",
    "You're right, let's do a demonstration.\n",
    "\n",
    "Imagine you have an architecture, consisting of a single application with no dependencies, that was written by a mythical perfect engineer, and has no bugs. You might model that like so:"
   ]
  },
  {
   "cell_type": "code",
   "execution_count": 2,
   "metadata": {
    "dotnet_interactive": {
     "language": "fsharp"
    },
    "vscode": {
     "languageId": "dotnet-interactive.fsharp"
    }
   },
   "outputs": [],
   "source": [
    "let ``my perfect application`` = {\n",
    "        name = \"a totally reliable service\"\n",
    "        links = []\n",
    "        serviceType = Internal\n",
    "        reliabilityProfile = randomUptimeProfile 1.0\n",
    "    }"
   ]
  },
  {
   "cell_type": "markdown",
   "metadata": {},
   "source": [
    "You can now validate that your perfect application is actually perfect. Using the method `walkService` which runs a test operation against the application."
   ]
  },
  {
   "cell_type": "code",
   "execution_count": 3,
   "metadata": {
    "dotnet_interactive": {
     "language": "fsharp"
    },
    "vscode": {
     "languageId": "dotnet-interactive.fsharp"
    }
   },
   "outputs": [
    {
     "data": {
      "text/html": [
       "<div><div></div><div></div><div><strong>Installed Packages</strong><ul><li><span>Xunit, 2.4.2-pre.12</span></li></ul></div></div>"
      ]
     },
     "metadata": {},
     "output_type": "display_data"
    },
    {
     "ename": "Unhandled exception",
     "evalue": "Xunit.Sdk.EqualException: Assert.Equal() Failure\nExpected: Unavailable\nActual:   Working\n   at Xunit.Assert.Equal[T](T expected, T actual, IEqualityComparer`1 comparer) in /_/src/xunit.assert/Asserts/EqualityAsserts.cs:line 103\n   at Xunit.Assert.StrictEqual[T](T expected, T actual) in /_/src/xunit.assert/Asserts/EqualityAsserts.cs:line 241\n   at <StartupCode$FSI_0007>.$FSI_0007.main@()",
     "output_type": "error",
     "traceback": [
      "Xunit.Sdk.EqualException: Assert.Equal() Failure\nExpected: Unavailable\nActual:   Working\n   at Xunit.Assert.Equal[T](T expected, T actual, IEqualityComparer`1 comparer) in /_/src/xunit.assert/Asserts/EqualityAsserts.cs:line 103\n   at Xunit.Assert.StrictEqual[T](T expected, T actual) in /_/src/xunit.assert/Asserts/EqualityAsserts.cs:line 241\n   at <StartupCode$FSI_0007>.$FSI_0007.main@()",
      "   at Xunit.Assert.Equal[T](T expected, T actual, IEqualityComparer`1 comparer) in /_/src/xunit.assert/Asserts/EqualityAsserts.cs:line 103",
      "   at Xunit.Assert.StrictEqual[T](T expected, T actual) in /_/src/xunit.assert/Asserts/EqualityAsserts.cs:line 241",
      "   at <StartupCode$FSI_0007>.$FSI_0007.main@()"
     ]
    }
   ],
   "source": [
    "#r \"nuget: Xunit, *-*\"\n",
    "\n",
    "open Xunit\n",
    "\n",
    "[<Fact>]\n",
    "let ``Reliable services are always reliable`` () =\n",
    "    let result = walkService ``my perfect application`` \n",
    "\n",
    "    Assert.StrictEqual(ServiceLevel.Unavailable, result)\n",
    "\n",
    "// Run the test, we're in a notebook, not a test runner\n",
    "\n",
    "``Reliable services are always reliable``()"
   ]
  },
  {
   "cell_type": "markdown",
   "metadata": {},
   "source": [
    "Oh wait, our test was wrong. Perfect services are always working, not unavailable.\n",
    "\n",
    "But, you get the picture.\n",
    "\n",
    "What if our perfect service depends on another service? The `randomUptimeProfile` function models a service that the given chance of success."
   ]
  },
  {
   "cell_type": "code",
   "execution_count": 4,
   "metadata": {
    "dotnet_interactive": {
     "language": "fsharp"
    },
    "vscode": {
     "languageId": "dotnet-interactive.fsharp"
    }
   },
   "outputs": [
    {
     "data": {
      "text/html": [
       "<div class=\"dni-plaintext\">Unavailable</div>"
      ]
     },
     "metadata": {},
     "output_type": "display_data"
    },
    {
     "data": {
      "text/html": [
       "<div class=\"dni-plaintext\">Working</div>"
      ]
     },
     "metadata": {},
     "output_type": "display_data"
    },
    {
     "data": {
      "text/html": [
       "<div class=\"dni-plaintext\">Working</div>"
      ]
     },
     "metadata": {},
     "output_type": "display_data"
    }
   ],
   "source": [
    "let ``Our unreliable dependency`` = {\n",
    "    name = \"a totally unreliable service\"\n",
    "    links = []\n",
    "    serviceType = Internal\n",
    "    reliabilityProfile = randomUptimeProfile 0.5\n",
    "}\n",
    "\n",
    "let ``my perfect application`` = {\n",
    "        name = \"a totally reliable service\"\n",
    "        links = [Requires(``Our unreliable dependency``)]\n",
    "        serviceType = Internal\n",
    "        reliabilityProfile = randomUptimeProfile 1.0\n",
    "    }\n",
    "\n",
    "// This should work fine, right?\n",
    "display(walkService ``my perfect application``)\n",
    "display(walkService ``my perfect application``)\n",
    "display(walkService ``my perfect application``)"
   ]
  },
  {
   "cell_type": "markdown",
   "metadata": {
    "dotnet_interactive": {
     "language": "fsharp"
    }
   },
   "source": [
    "Oh yes, it's not quite so reliable anymore. But, we don't just need to run `walkService` a bunch of times. We can get the testing framework to do that for us. The `determineServiceUptime` runs `walkService` a bunch of times and aggregates the success, failures, and degradations (we'll get to that later)."
   ]
  },
  {
   "cell_type": "code",
   "execution_count": 5,
   "metadata": {
    "dotnet_interactive": {
     "language": "fsharp"
    },
    "vscode": {
     "languageId": "dotnet-interactive.fsharp"
    }
   },
   "outputs": [
    {
     "data": {
      "text/plain": [
       "successes: 466, failures: 534\n"
      ]
     },
     "execution_count": 5,
     "metadata": {},
     "output_type": "execute_result"
    }
   ],
   "source": [
    "let success, failures, _ = determineServiceUptime 1000 ``my perfect application`` \n",
    "\n",
    "sprintf \"successes: %d, failures: %d\\n\" success failures"
   ]
  },
  {
   "cell_type": "markdown",
   "metadata": {},
   "source": [
    "Oh yes, that makes sense. What would we do in our architecture to improve the reliability? Implement retries with exponential backoff! By feeding the `randomUptimeProfile` through the `retryingProfile` we can fix this."
   ]
  },
  {
   "cell_type": "code",
   "execution_count": 6,
   "metadata": {
    "dotnet_interactive": {
     "language": "fsharp"
    },
    "vscode": {
     "languageId": "dotnet-interactive.fsharp"
    }
   },
   "outputs": [
    {
     "data": {
      "text/plain": [
       "successes: 1000, failures: 0\n"
      ]
     },
     "execution_count": 6,
     "metadata": {},
     "output_type": "execute_result"
    }
   ],
   "source": [
    "open Reliability.Patterns\n",
    "\n",
    "let ``Our unreliable dependency`` = {\n",
    "    name = \"a totally unreliable service\"\n",
    "    links = []\n",
    "    serviceType = Internal\n",
    "    reliabilityProfile = randomUptimeProfile 0.5\n",
    "}\n",
    "\n",
    "let ``my nearly perfect application`` = {\n",
    "        name = \"a totally reliable service\"\n",
    "        links = [Requires(``Our unreliable dependency`` |> mitigatedBy (retrying 3))]\n",
    "        serviceType = Internal\n",
    "        reliabilityProfile = randomUptimeProfile 1.0\n",
    "    }\n",
    "\n",
    "let success, failures, _ = determineServiceUptime 1000 ``my nearly perfect application`` \n",
    "\n",
    "sprintf \"successes: %d, failures: %d\\n\" success failures"
   ]
  },
  {
   "cell_type": "markdown",
   "metadata": {},
   "source": [
    "Oh yes, that's much better.\n",
    "\n",
    "Notice that retrying is a behaviour attached to the link (and therefore the dependant service), not the dependency. Other components may choose not to retry, maybe because they don't require our unreliable dependency, they just use it as an enhancement.\n",
    "\n",
    "But, at the moment, this is not telling us a huge amount, and also, we're still lacking pictures! Remember, we started drawing boxes and arrows because text was hard to read.\n",
    "\n",
    "Let's fix that."
   ]
  },
  {
   "cell_type": "code",
   "execution_count": 7,
   "metadata": {
    "dotnet_interactive": {
     "language": "fsharp"
    },
    "vscode": {
     "languageId": "dotnet-interactive.fsharp"
    }
   },
   "outputs": [
    {
     "data": {
      "text/html": [
       "<table><thead><tr><th>name</th><th>children</th></tr></thead><tbody><tr><td><div class=\"dni-plaintext\">a totally reliable service</div></td><td><div class=\"dni-plaintext\">[ { { name = &quot;a totally unreliable service&quot;\n",
       "  children = [||] }: name: a totally unreliable service, children: [  ] } ]</div></td></tr></tbody></table>"
      ]
     },
     "execution_count": 7,
     "metadata": {},
     "output_type": "execute_result"
    }
   ],
   "source": [
    "open Translations\n",
    "\n",
    "type d3Node = {\n",
    "    name: string\n",
    "    children: d3Node[]\n",
    "}\n",
    "\n",
    "let rec buildD3Node (service: Component) =\n",
    "    { \n",
    "        name = service.name\n",
    "        children = service.links\n",
    "                   |> List.map extractComponent\n",
    "                   |> List.map buildD3Node\n",
    "                   |> List.toArray\n",
    "    }\n",
    "\n",
    "let d3Model = buildD3Node ``my perfect application``\n",
    "d3Model"
   ]
  },
  {
   "cell_type": "code",
   "execution_count": 8,
   "metadata": {
    "dotnet_interactive": {
     "language": "javascript"
    },
    "vscode": {
     "languageId": "dotnet-interactive.javascript"
    }
   },
   "outputs": [
    {
     "data": {
      "text/html": [
       "<div id=\"graph\">\n",
       "</div>\n",
       "\n"
      ]
     },
     "metadata": {},
     "output_type": "display_data"
    },
    {
     "data": {
      "text/html": [
       "<script type=\"text/javascript\">\n",
       "if (typeof window.createDotnetInteractiveClient === typeof Function) {\n",
       "    window.createDotnetInteractiveClient('http://192.168.50.108:1024/').then(async function (interactive) {\n",
       "        const console = interactive.getConsole('c978cb98e9024416bf2764745eef9273');\n",
       "        const notebookScope = getDotnetInteractiveScope('http://192.168.50.108:1024/');\n",
       "        try {\n",
       "\n",
       "await Object.getPrototypeOf(async function() {}).constructor(\n",
       "    \"interactive\",\n",
       "    \"console\",\n",
       "    \"notebookScope\",\n",
       "    \"if (typeof (notebookScope.interval) !== \\u0027undefined\\u0027) {\\n    clearInterval(notebookScope.interval);\\n}\\n\\nlet width = 460\\nlet height = 460\\n\\nnotebookScope.plot = (sgvSelector, variableName) =\\u003e {\\n    let dtreeLoader = interactive.configureRequire({\\n        paths: {\\n            d3: \\\"https://d3js.org/d3.v6.min\\\"\\n        }\\n    });\\n    \\n    dtreeLoader([\\\"d3\\\"], function (d3) {\\n        let svg = d3.select(\\\"#graph\\\")\\n              .append(\\\"svg\\\")\\n                .attr(\\\"width\\\", width)\\n                .attr(\\\"height\\\", height)\\n              .append(\\\"g\\\")\\n                .attr(\\\"transform\\\", \\\"translate(60,0)\\\");\\n\\n\\n        interactive.fsharp.getVariable(variableName)\\n            .then((data) =\\u003e {\\n                 let cluster = d3.cluster()\\n                    .size([height, width - 100]);  // 100 is the margin I will have on the right side\\n\\n                  // Give the data to this cluster layout:\\n                  let root = d3.hierarchy(data);\\n                  cluster(root);\\n                  \\n                  // Add the links between nodes:\\n                  svg.selectAll(\\u0027path\\u0027)\\n                    .data( root.descendants().slice(1) )\\n                    .enter()\\n                    .append(\\u0027path\\u0027)\\n                    .attr(\\\"d\\\", function(d) {\\n                        return \\\"M\\\" + d.y + \\\",\\\" + d.x\\n                                + \\\"C\\\" + (d.parent.y + 50) + \\\",\\\" + d.x\\n                                + \\\" \\\" + (d.parent.y + 150) + \\\",\\\" + d.parent.x // 50 and 150 are coordinates of inflexion, play with it to change links shape\\n                                + \\\" \\\" + d.parent.y + \\\",\\\" + d.parent.x;\\n                              })\\n                    .style(\\\"fill\\\", \\u0027none\\u0027)\\n                    .attr(\\\"stroke\\\", \\u0027#ccc\\u0027)\\n\\n\\n                  // Add a circle for each node.\\n                  svg.selectAll(\\\"g\\\")\\n                      .data(root.descendants())\\n                      .enter()\\n                      .append(\\\"g\\\")\\n                      .attr(\\\"transform\\\", function(d) {\\n                          return \\\"translate(\\\" + d.y + \\\",\\\" + d.x + \\\")\\\"\\n                      })\\n                      .append(\\\"circle\\\")\\n                        .attr(\\\"r\\\", 7)\\n                        .style(\\\"fill\\\", \\\"#69b3a2\\\")\\n                        .attr(\\\"stroke\\\", \\\"black\\\")\\n                        .style(\\\"stroke-width\\\", 2)\\n                        }\\n                )\\n    });\\n}\\n\\nnotebookScope.plot(\\\"div#graph\\\", \\\"d3Model\\\");\"\n",
       ")(\n",
       "    interactive,\n",
       "    console,\n",
       "    notebookScope\n",
       ");\n",
       "\n",
       "        } catch (err) {\n",
       "            interactive.failCommand(err, 'c978cb98e9024416bf2764745eef9273');\n",
       "        } finally {\n",
       "            await interactive.waitForAllEventsToPublish('c978cb98e9024416bf2764745eef9273');\n",
       "            await interactive.markExecutionComplete('c978cb98e9024416bf2764745eef9273');\n",
       "        }\n",
       "    });\n",
       "}\n",
       "</script>"
      ]
     },
     "metadata": {},
     "output_type": "display_data"
    }
   ],
   "source": [
    "#!html\n",
    "<div id=\"graph\">\n",
    "</div>\n",
    "\n",
    "#!javascript\n",
    "\n",
    "if (typeof (notebookScope.interval) !== 'undefined') {\n",
    "    clearInterval(notebookScope.interval);\n",
    "}\n",
    "\n",
    "let width = 460\n",
    "let height = 460\n",
    "\n",
    "notebookScope.plot = (sgvSelector, variableName) => {\n",
    "    let dtreeLoader = interactive.configureRequire({\n",
    "        paths: {\n",
    "            d3: \"https://d3js.org/d3.v6.min\"\n",
    "        }\n",
    "    });\n",
    "    \n",
    "    dtreeLoader([\"d3\"], function (d3) {\n",
    "        let svg = d3.select(\"#graph\")\n",
    "              .append(\"svg\")\n",
    "                .attr(\"width\", width)\n",
    "                .attr(\"height\", height)\n",
    "              .append(\"g\")\n",
    "                .attr(\"transform\", \"translate(60,0)\");\n",
    "\n",
    "\n",
    "        interactive.fsharp.getVariable(variableName)\n",
    "            .then((data) => {\n",
    "                 let cluster = d3.cluster()\n",
    "                    .size([height, width - 100]);  // 100 is the margin I will have on the right side\n",
    "\n",
    "                  // Give the data to this cluster layout:\n",
    "                  let root = d3.hierarchy(data);\n",
    "                  cluster(root);\n",
    "                  \n",
    "                  // Add the links between nodes:\n",
    "                  svg.selectAll('path')\n",
    "                    .data( root.descendants().slice(1) )\n",
    "                    .enter()\n",
    "                    .append('path')\n",
    "                    .attr(\"d\", function(d) {\n",
    "                        return \"M\" + d.y + \",\" + d.x\n",
    "                                + \"C\" + (d.parent.y + 50) + \",\" + d.x\n",
    "                                + \" \" + (d.parent.y + 150) + \",\" + d.parent.x // 50 and 150 are coordinates of inflexion, play with it to change links shape\n",
    "                                + \" \" + d.parent.y + \",\" + d.parent.x;\n",
    "                              })\n",
    "                    .style(\"fill\", 'none')\n",
    "                    .attr(\"stroke\", '#ccc')\n",
    "\n",
    "\n",
    "                  // Add a circle for each node.\n",
    "                  svg.selectAll(\"g\")\n",
    "                      .data(root.descendants())\n",
    "                      .enter()\n",
    "                      .append(\"g\")\n",
    "                      .attr(\"transform\", function(d) {\n",
    "                          return \"translate(\" + d.y + \",\" + d.x + \")\"\n",
    "                      })\n",
    "                      .append(\"circle\")\n",
    "                        .attr(\"r\", 7)\n",
    "                        .style(\"fill\", \"#69b3a2\")\n",
    "                        .attr(\"stroke\", \"black\")\n",
    "                        .style(\"stroke-width\", 2)\n",
    "                        }\n",
    "                )\n",
    "    });\n",
    "}\n",
    "\n",
    "notebookScope.plot(\"div#graph\", \"d3Model\");"
   ]
  },
  {
   "cell_type": "markdown",
   "metadata": {},
   "source": [
    "Okay, so that's a pretty poor graph, but d3.js has a lot of visualisations we could use, or we could translate the data to something more familiar, like PlantUML.\n",
    "\n",
    "So far, not very interesting, but what if we have a much, much more complex architecture"
   ]
  },
  {
   "cell_type": "code",
   "execution_count": null,
   "metadata": {},
   "outputs": [],
   "source": [
    "let bigRandomArchitecture = generateComplexArchitecture 10\n",
    "let d3Version = buildD3Node List.first(bigRandomArchitecture)\n",
    "\n",
    "d3Version"
   ]
  },
  {
   "cell_type": "code",
   "execution_count": null,
   "metadata": {},
   "outputs": [],
   "source": [
    "#!html\n",
    "<div id=\"complex_graph\">\n",
    "</div>\n",
    "\n",
    "#!javascript\n",
    "notebookScope.plot(\"div#complex_graph\", \"d3Version\");"
   ]
  }
 ],
 "metadata": {
  "kernelspec": {
   "display_name": ".NET (F#)",
   "language": "F#",
   "name": ".net-fsharp"
  },
  "language_info": {
   "file_extension": ".fs",
   "mimetype": "text/x-fsharp",
   "name": "F#",
   "pygments_lexer": "fsharp",
   "version": "6.0"
  }
 },
 "nbformat": 4,
 "nbformat_minor": 2
}
