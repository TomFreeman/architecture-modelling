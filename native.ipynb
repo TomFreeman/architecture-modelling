{
 "cells": [
  {
   "cell_type": "markdown",
   "metadata": {},
   "source": [
    "# Native Notebooks\n",
    "\n",
    "F# is a great programming language and all, but not familiar to everyone.\n",
    "\n",
    "Also, this kind of modelling lends itself well to use in notebooks (like this one!), and the most popular language for writing notebooks like this one is Python.\n",
    "\n",
    "Fortunately, we can use [Fable Python](https://fable.io/Fable.Python/index.html) to transpile our F# library into Python, so that more people can take advantage.\n",
    "\n",
    "To build this for yourself, use the `start-watch.sh` script to start the fable executable. Follow the getting started guide for [Fable](https://fable.io/) and Fable Python to install the required tooling.\n",
    "\n",
    "Once Fable has transpiled our library, you can reference it like any other Python package."
   ]
  },
  {
   "cell_type": "code",
   "execution_count": 9,
   "metadata": {},
   "outputs": [],
   "source": [
    "import out.Model.examples as examples\n",
    "from out.Model.fable_modules.fable_library.list import FSharpList\n",
    "import out.Model.library as library\n",
    "\n",
    "# Define a little helper function to build relationships in python\n",
    "relationshipCases = library.relationships.cases()\n",
    "\n",
    "def buildRelationship(name, component):\n",
    "    index = relationshipCases.index(name)\n",
    "    return library.relationships(index, component)\n",
    "\n",
    "# Create our dependency service\n",
    "test_dependency = library.Component(\n",
    "    \"test_dependency\", [], \"Internal\", examples.random_uptime_profile(0.9))\n",
    "\n",
    "test_service = library.Component(\n",
    "    \"my architecture\", [buildRelationship(\"Requires\", test_dependency)], \"External\", examples.random_uptime_profile(0.9))"
   ]
  },
  {
   "cell_type": "markdown",
   "metadata": {},
   "source": [
    "We can now take advantage of Python packages in our notebook to model the behaviour of our architecture, or even translate it to different representations.\n",
    "\n",
    "For example, to translate the model into a simple diagram, we'll use the [Diagrams](https://diagrams.mingrammer.com/) python package."
   ]
  },
  {
   "cell_type": "code",
   "execution_count": 10,
   "metadata": {},
   "outputs": [
    {
     "name": "stdout",
     "output_type": "stream",
     "text": [
      "Making leaf for component: my architecture\n",
      "Making leaf for component: test_dependency\n",
      "Making branch for link: Requires\n"
     ]
    },
    {
     "name": "stderr",
     "output_type": "stream",
     "text": [
      "Warning: node 'f6b5b5aa4d4f4affa94758aa56bbf706', graph '%3' size too small for label\n"
     ]
    },
    {
     "data": {
      "image/png": "[encoded data removed]",
      "text/plain": [
       "<diagrams.Diagram at 0x10ce6a890>"
      ]
     },
     "execution_count": 10,
     "metadata": {},
     "output_type": "execute_result"
    }
   ],
   "source": [
    "from diagrams import Diagram\n",
    "from diagrams.programming.flowchart import Action\n",
    "from out.Model import model_translations as translations\n",
    "\n",
    "\n",
    "# Our library defines a `translate` function that can be used to convert a component\n",
    "# We need to define steps for translating components, and relationships\n",
    "def componentToDiagram (component):\n",
    "    print(\"Making leaf for component: \" + component.name)\n",
    "    return Action(label=component.name)\n",
    "\n",
    "def linkToDiagram (link, leaf):\n",
    "    print(\"Making branch for link: \" + link.name)\n",
    "    return leaf\n",
    "\n",
    "# We also need a function to determine how to build out our new representation\n",
    "def joinNodes (leaf, branches):\n",
    "    for branch in branches:\n",
    "        leaf >> branch\n",
    "    return leaf\n",
    "\n",
    "with Diagram(show=False) as diag:\n",
    "    # We can use the `translate` function to convert our component into a diagram\n",
    "    translations.translate(componentToDiagram, linkToDiagram, joinNodes, test_service)\n",
    "\n",
    "diag"
   ]
  },
  {
   "cell_type": "markdown",
   "metadata": {},
   "source": [
    "And, now we have a diagram of our architecture, generated from our programmable model."
   ]
  }
 ],
 "metadata": {
  "kernelspec": {
   "display_name": "Python 3.10.6 64-bit",
   "language": "python",
   "name": "python3"
  },
  "language_info": {
   "codemirror_mode": {
    "name": "ipython",
    "version": 3
   },
   "file_extension": ".py",
   "mimetype": "text/x-python",
   "name": "python",
   "nbconvert_exporter": "python",
   "pygments_lexer": "ipython3",
   "version": "3.10.6"
  },
  "orig_nbformat": 4,
  "vscode": {
   "interpreter": {
    "hash": "b0fa6594d8f4cbf19f97940f81e996739fb7646882a419484c72d19e05852a7e"
   }
  }
 },
 "nbformat": 4,
 "nbformat_minor": 2
}
